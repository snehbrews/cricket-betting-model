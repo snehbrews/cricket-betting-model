{
  "cells": [
    {
      "cell_type": "code",
      "execution_count": 1,
      "id": "e20aed57",
      "metadata": {
        "colab": {
          "base_uri": "https://localhost:8080/"
        },
        "id": "e20aed57",
        "outputId": "a90b3e2c-7b8d-4ce3-f20a-74b956d36702"
      },
      "outputs": [
        {
          "output_type": "stream",
          "name": "stdout",
          "text": [
            "Requirement already satisfied: scikit-learn in /usr/local/lib/python3.10/dist-packages (1.2.2)\n",
            "Requirement already satisfied: numpy>=1.17.3 in /usr/local/lib/python3.10/dist-packages (from scikit-learn) (1.23.5)\n",
            "Requirement already satisfied: scipy>=1.3.2 in /usr/local/lib/python3.10/dist-packages (from scikit-learn) (1.11.3)\n",
            "Requirement already satisfied: joblib>=1.1.1 in /usr/local/lib/python3.10/dist-packages (from scikit-learn) (1.3.2)\n",
            "Requirement already satisfied: threadpoolctl>=2.0.0 in /usr/local/lib/python3.10/dist-packages (from scikit-learn) (3.2.0)\n"
          ]
        }
      ],
      "source": [
        "pip install scikit-learn"
      ]
    },
    {
      "cell_type": "code",
      "execution_count": 2,
      "id": "b7f0a237",
      "metadata": {
        "id": "b7f0a237"
      },
      "outputs": [],
      "source": [
        "from sklearn.preprocessing import MinMaxScaler"
      ]
    },
    {
      "cell_type": "code",
      "execution_count": 3,
      "id": "4eb7aeb6",
      "metadata": {
        "id": "4eb7aeb6"
      },
      "outputs": [],
      "source": [
        "import pandas as pd\n",
        "from sklearn.model_selection import KFold, cross_val_score\n",
        "from sklearn.ensemble import RandomForestRegressor\n",
        "from sklearn.metrics import mean_squared_error\n",
        "from sklearn.preprocessing import LabelEncoder\n",
        "\n",
        "\n",
        "# Load the data from the CSV file\n",
        "data = pd.read_csv(\"Rohith_Sharma.csv\")"
      ]
    },
    {
      "cell_type": "code",
      "source": [
        "data.columns"
      ],
      "metadata": {
        "colab": {
          "base_uri": "https://localhost:8080/"
        },
        "id": "GL9lWdjKSAlH",
        "outputId": "4811f12f-f8f6-4049-90c8-ebb68a1a08e2"
      },
      "id": "GL9lWdjKSAlH",
      "execution_count": 4,
      "outputs": [
        {
          "output_type": "execute_result",
          "data": {
            "text/plain": [
              "Index(['Runs', 'Minutes', 'Balls_faced', '4s', '6s', 'Strike_Rate', 'Position',\n",
              "       'Dismissal', 'Innings', 'Opposition', 'Ground'],\n",
              "      dtype='object')"
            ]
          },
          "metadata": {},
          "execution_count": 4
        }
      ]
    },
    {
      "cell_type": "code",
      "execution_count": 5,
      "id": "6c20de1d",
      "metadata": {
        "id": "6c20de1d",
        "colab": {
          "base_uri": "https://localhost:8080/"
        },
        "outputId": "bc5b9303-33e8-4230-cc43-5936623afe2f"
      },
      "outputs": [
        {
          "output_type": "execute_result",
          "data": {
            "text/plain": [
              "array(['South Africa', 'Australia', 'Pakistan', 'Sri Lanka', 'Bangladesh',\n",
              "       'England', 'New Zealand'], dtype=object)"
            ]
          },
          "metadata": {},
          "execution_count": 5
        }
      ],
      "source": [
        "data.Opposition.unique()"
      ]
    },
    {
      "cell_type": "code",
      "execution_count": 6,
      "id": "1bafc545",
      "metadata": {
        "id": "1bafc545"
      },
      "outputs": [],
      "source": [
        "# Separate features (X) from the target variable (y)\n",
        "X = data.drop('Runs', axis=1)\n",
        "y = data['Runs']\n",
        "\n",
        "# labelencoder = LabelEncoder()\n",
        "# X['Dismissal'] = labelencoder.fit_transform(X['Dismissal'])\n",
        "\n",
        "labelencoder_1 = LabelEncoder()\n",
        "X['Opposition'] = labelencoder_1.fit_transform(X['Opposition'])\n",
        "\n",
        "labelencoder_2 = LabelEncoder()\n",
        "X['Ground'] = labelencoder_2.fit_transform(X['Ground'])\n",
        "\n",
        "labelencoder_2 = LabelEncoder()\n",
        "X['Innings'] = labelencoder_2.fit_transform(X['Innings'])\n",
        "\n",
        "labelencoder_2 = LabelEncoder()\n",
        "X['Innings'] = labelencoder_2.fit_transform(X['Position'])"
      ]
    },
    {
      "cell_type": "code",
      "execution_count": 7,
      "id": "aef315ba",
      "metadata": {
        "id": "aef315ba"
      },
      "outputs": [],
      "source": [
        "# X = X[['Dismissal','Opposition','Ground','Innings','Position']]\n",
        "X = X[['Opposition','Ground','Position','Innings']]"
      ]
    },
    {
      "cell_type": "code",
      "execution_count": 8,
      "id": "49cf394f",
      "metadata": {
        "id": "49cf394f",
        "colab": {
          "base_uri": "https://localhost:8080/"
        },
        "outputId": "d3f079bc-14e5-4083-b3a6-5db781f8914b"
      },
      "outputs": [
        {
          "output_type": "stream",
          "name": "stdout",
          "text": [
            "Average Mean Squared Error: 2360.071565400988\n",
            "Enter the Opposition : New Zealand\n",
            "Enter the Ground : Ahmedabad\n",
            "Enter Position : 2\n",
            "Enter the Innings : 2\n",
            "    Opposition     Ground  Position  Innings\n",
            "0  New Zealand  Ahmedabad         2        2\n",
            "Predicted runs for the future game against New Zealand in Ahmedabad: [57.34180952]\n"
          ]
        }
      ],
      "source": [
        "\n",
        "#labelencoder_3 = LabelEncoder()\n",
        "#X['Start Date'] = labelencoder_3.fit_transform(X['Start Date'])\n",
        "\n",
        "# K-fold cross-validation\n",
        "kf = KFold(n_splits=10, shuffle=True, random_state=42)\n",
        "mse_scores = []\n",
        "\n",
        "for train_index, test_index in kf.split(X):\n",
        "    X_train, X_test = X.iloc[train_index], X.iloc[test_index]\n",
        "    y_train, y_test = y.iloc[train_index], y.iloc[test_index]\n",
        "\n",
        "    # Train the model on the training data\n",
        "    model = RandomForestRegressor(random_state=42)\n",
        "    model.fit(X_train, y_train)\n",
        "\n",
        "    # Make predictions on the test data\n",
        "    y_pred = model.predict(X_test)\n",
        "\n",
        "    # Calculate the mean squared error\n",
        "    mse = mean_squared_error(y_test, y_pred)\n",
        "    mse_scores.append(mse)\n",
        "\n",
        "# Calculate the average mean squared error\n",
        "avg_mse = sum(mse_scores) / len(mse_scores)\n",
        "print(\"Average Mean Squared Error:\", avg_mse)\n",
        "\n",
        "\n",
        "Opposition = input(\"Enter the Opposition : \")\n",
        "Ground = input(\"Enter the Ground : \")\n",
        "Position = input(\"Enter Position : \")\n",
        "Innings = input(\"Enter the Innings : \")\n",
        "\n",
        "\n",
        "# New data for the future game\n",
        "new_data = {\n",
        "    'Opposition': Opposition,\n",
        "    'Ground': Ground,\n",
        "    #'Start Date': '11/15/2023',\n",
        "    'Position': int(Position),\n",
        "    'Innings': int(Innings)\n",
        "    # 'Innings': Innings\n",
        "\n",
        "}\n",
        "\n",
        "# Preprocess the new data\n",
        "index = [0]  # Index can be a list of integers\n",
        "new_data = pd.DataFrame(new_data, index=index)\n",
        "\n",
        "print(new_data)\n",
        "\n",
        "# Label encode the 'Opposition' feature\n",
        "labelencoder_1 = LabelEncoder()\n",
        "new_data['Opposition'] = labelencoder_1.fit_transform(new_data['Opposition'])\n",
        "\n",
        "# Label encode the 'Ground' feature\n",
        "labelencoder_2 = LabelEncoder()\n",
        "new_data['Ground'] = labelencoder_2.fit_transform(new_data['Ground'])\n",
        "\n",
        "#labelencoder_3 = LabelEncoder()\n",
        "#X['Start Date'] = labelencoder_3.fit_transform(X['Start Date'])\n",
        "\n",
        "\n",
        "# divide date into seperate columns\n",
        "#\n",
        "# Scale the 'Date' feature\n",
        "#scaler = MinMaxScaler()\n",
        "#scaler.fit(X_train['Start Date'].values.reshape(-1, 1))\n",
        "#new_data['Start Date'] = scaler.transform(new_data['Start Date'].values.reshape(-1, 1))\n",
        "\n",
        "# Make a prediction\n",
        "predicted_runs = model.predict(new_data)\n",
        "print(f\"Predicted runs for the future game against {Opposition} in {Ground}:\", predicted_runs)\n"
      ]
    },
    {
      "cell_type": "code",
      "execution_count": 9,
      "id": "74a79680",
      "metadata": {
        "id": "74a79680",
        "colab": {
          "base_uri": "https://localhost:8080/"
        },
        "outputId": "45db8c47-5f5c-4805-a67d-916c939c95ce"
      },
      "outputs": [
        {
          "output_type": "stream",
          "name": "stdout",
          "text": [
            "[  0   1   2   3   4   5   6   7   8   9  10  11  12  13  14  16  17  18\n",
            "  19  20  21  22  23  24  25  26  27  28  29  31  32  33  34  35  36  37\n",
            "  38  39  40  41  42  43  44  46  47  48  49  50  51  52  53  54  55  57\n",
            "  58  59  60  61  62  63  64  65  67  70  71  72  73  74  75  76  77  79\n",
            "  80  81  83  84  85  86  87  88  89  90  91  92  93  94  96  97  98  99\n",
            " 100 101 102 103 104 105 106 107 108 109 110 111 112 113 114 116 117 118\n",
            " 119 120 121 122 123 125 126 127 129 130 131 132 133 134 135 136 137 138\n",
            " 139 140 141 142 143 144 145 146 147 148 149 150 151 153 154 155 156 157\n",
            " 159 160 161 162 163 164 166 167 168 169 170 172 173 174 176 177 179 180\n",
            " 181 182 184 185 186 188 189 190 191 192 193 194 195 196 197 198 199 200] [ 15  30  45  56  66  68  69  78  82  95 115 124 128 152 158 165 171 175\n",
            " 178 183 187]\n",
            "[  0   1   2   3   4   5   6   7   8  10  11  12  13  14  15  17  19  20\n",
            "  21  22  23  24  25  26  27  28  29  30  31  32  33  34  35  36  37  38\n",
            "  39  40  41  42  43  44  45  46  47  48  49  50  51  52  53  54  56  57\n",
            "  58  59  61  62  63  64  66  68  69  70  71  72  73  74  77  78  80  81\n",
            "  82  83  85  86  87  88  89  90  91  92  94  95  96  97  98  99 100 101\n",
            " 102 103 105 106 107 108 109 110 111 112 113 114 115 116 117 118 119 120\n",
            " 121 122 123 124 126 127 128 129 130 131 133 134 136 138 139 140 141 142\n",
            " 143 144 145 146 147 149 151 152 153 154 155 156 157 158 159 160 161 162\n",
            " 163 165 166 167 168 169 170 171 172 173 174 175 176 177 178 179 180 181\n",
            " 182 183 184 185 186 187 188 189 190 191 192 193 194 195 196 197 198 199\n",
            " 200] [  9  16  18  55  60  65  67  75  76  79  84  93 104 125 132 135 137 148\n",
            " 150 164]\n",
            "[  0   1   2   3   4   6   7   8   9  10  11  12  13  14  15  16  17  18\n",
            "  20  21  22  23  25  26  27  28  30  31  32  33  34  35  36  37  39  40\n",
            "  41  42  43  44  45  46  47  48  49  50  51  52  53  54  55  56  57  58\n",
            "  59  60  61  62  63  64  65  66  67  68  69  70  71  72  74  75  76  77\n",
            "  78  79  80  81  82  83  84  85  87  88  89  90  91  92  93  94  95  97\n",
            "  99 100 101 102 103 104 105 106 107 108 109 110 111 112 113 115 116 118\n",
            " 119 120 121 123 124 125 127 128 129 130 131 132 133 134 135 136 137 138\n",
            " 139 141 142 144 145 146 147 148 149 150 151 152 153 154 155 156 157 158\n",
            " 159 160 161 162 163 164 165 166 167 168 169 171 172 175 176 177 178 179\n",
            " 180 181 182 183 184 185 186 187 188 189 190 191 192 193 194 195 197 199\n",
            " 200] [  5  19  24  29  38  73  86  96  98 114 117 122 126 140 143 170 173 174\n",
            " 196 198]\n",
            "[  0   1   3   4   5   6   7   8   9  10  11  13  14  15  16  17  18  19\n",
            "  20  21  22  23  24  25  27  28  29  30  32  33  34  36  37  38  39  40\n",
            "  43  44  45  46  47  48  49  50  52  53  54  55  56  57  58  59  60  61\n",
            "  62  63  64  65  66  67  68  69  70  71  72  73  74  75  76  77  78  79\n",
            "  80  81  82  83  84  85  86  87  88  89  91  92  93  94  95  96  98  99\n",
            " 101 102 103 104 105 106 107 108 109 110 112 114 115 116 117 120 121 122\n",
            " 123 124 125 126 128 129 130 131 132 133 134 135 137 138 140 141 142 143\n",
            " 144 145 146 147 148 149 150 151 152 153 154 155 156 157 158 159 160 161\n",
            " 163 164 165 166 167 168 169 170 171 172 173 174 175 176 177 178 179 180\n",
            " 181 182 183 184 185 186 187 188 189 191 192 193 194 195 196 197 198 199\n",
            " 200] [  2  12  26  31  35  41  42  51  90  97 100 111 113 118 119 127 136 139\n",
            " 162 190]\n",
            "[  0   1   2   3   5   7   8   9  10  12  13  14  15  16  17  18  19  20\n",
            "  21  23  24  25  26  28  29  30  31  32  34  35  37  38  39  40  41  42\n",
            "  43  44  45  47  48  49  50  51  52  53  54  55  56  57  58  59  60  62\n",
            "  63  64  65  66  67  68  69  70  71  72  73  74  75  76  78  79  80  81\n",
            "  82  83  84  86  87  88  89  90  91  92  93  94  95  96  97  98  99 100\n",
            " 102 103 104 105 106 107 108 109 110 111 112 113 114 115 116 117 118 119\n",
            " 121 122 123 124 125 126 127 128 129 130 131 132 133 134 135 136 137 138\n",
            " 139 140 142 143 144 145 146 147 148 149 150 151 152 153 154 155 156 157\n",
            " 158 160 162 163 164 165 166 167 168 169 170 171 172 173 174 175 176 177\n",
            " 178 179 180 181 182 183 184 185 186 187 188 189 190 193 196 197 198 199\n",
            " 200] [  4   6  11  22  27  33  36  46  61  77  85 101 120 141 159 161 191 192\n",
            " 194 195]\n",
            "[  1   2   3   4   5   6   7   8   9  11  12  13  14  15  16  17  18  19\n",
            "  20  21  22  23  24  25  26  27  29  30  31  33  34  35  36  37  38  39\n",
            "  41  42  43  45  46  47  48  49  50  51  52  53  54  55  56  57  58  59\n",
            "  60  61  63  65  66  67  68  69  71  72  73  74  75  76  77  78  79  80\n",
            "  81  82  83  84  85  86  87  88  89  90  91  92  93  94  95  96  97  98\n",
            "  99 100 101 102 103 104 105 106 107 108 110 111 113 114 115 116 117 118\n",
            " 119 120 121 122 124 125 126 127 128 129 130 131 132 133 134 135 136 137\n",
            " 138 139 140 141 143 147 148 149 150 151 152 154 155 156 157 158 159 160\n",
            " 161 162 164 165 167 168 169 170 171 172 173 174 175 176 177 178 179 181\n",
            " 182 183 184 185 186 187 188 189 190 191 192 193 194 195 196 197 198 199\n",
            " 200] [  0  10  28  32  40  44  62  64  70 109 112 123 142 144 145 146 153 163\n",
            " 166 180]\n",
            "[  0   1   2   4   5   6   7   8   9  10  11  12  13  14  15  16  17  18\n",
            "  19  20  21  22  24  26  27  28  29  30  31  32  33  34  35  36  37  38\n",
            "  40  41  42  44  45  46  48  49  50  51  52  54  55  56  57  58  59  60\n",
            "  61  62  63  64  65  66  67  68  69  70  71  72  73  74  75  76  77  78\n",
            "  79  80  82  83  84  85  86  87  88  89  90  91  92  93  95  96  97  98\n",
            "  99 100 101 102 103 104 106 107 109 110 111 112 113 114 115 116 117 118\n",
            " 119 120 121 122 123 124 125 126 127 128 129 130 131 132 134 135 136 137\n",
            " 139 140 141 142 143 144 145 146 148 149 150 151 152 153 157 158 159 160\n",
            " 161 162 163 164 165 166 167 169 170 171 172 173 174 175 176 177 178 179\n",
            " 180 182 183 184 186 187 188 189 190 191 192 193 194 195 196 197 198 199\n",
            " 200] [  3  23  25  39  43  47  53  81  94 105 108 133 138 147 154 155 156 168\n",
            " 181 185]\n",
            "[  0   1   2   3   4   5   6   9  10  11  12  14  15  16  18  19  20  21\n",
            "  22  23  24  25  26  27  28  29  30  31  32  33  35  36  37  38  39  40\n",
            "  41  42  43  44  45  46  47  48  50  51  52  53  54  55  56  57  58  60\n",
            "  61  62  63  64  65  66  67  68  69  70  71  73  74  75  76  77  78  79\n",
            "  81  82  84  85  86  87  88  90  92  93  94  95  96  97  98  99 100 101\n",
            " 102 103 104 105 106 107 108 109 111 112 113 114 115 116 117 118 119 120\n",
            " 121 122 123 124 125 126 127 128 129 130 132 133 134 135 136 137 138 139\n",
            " 140 141 142 143 144 145 146 147 148 149 150 151 152 153 154 155 156 157\n",
            " 158 159 160 161 162 163 164 165 166 167 168 169 170 171 173 174 175 178\n",
            " 179 180 181 183 184 185 187 188 189 190 191 192 193 194 195 196 197 198\n",
            " 200] [  7   8  13  17  34  49  59  72  80  83  89  91 110 131 172 176 177 182\n",
            " 186 199]\n",
            "[  0   1   2   3   4   5   6   7   8   9  10  11  12  13  14  15  16  17\n",
            "  18  19  20  22  23  24  25  26  27  28  29  30  31  32  33  34  35  36\n",
            "  38  39  40  41  42  43  44  45  46  47  49  51  52  53  55  56  59  60\n",
            "  61  62  64  65  66  67  68  69  70  71  72  73  74  75  76  77  78  79\n",
            "  80  81  82  83  84  85  86  87  89  90  91  92  93  94  95  96  97  98\n",
            "  99 100 101 102 103 104 105 106 108 109 110 111 112 113 114 115 116 117\n",
            " 118 119 120 121 122 123 124 125 126 127 128 130 131 132 133 135 136 137\n",
            " 138 139 140 141 142 143 144 145 146 147 148 149 150 151 152 153 154 155\n",
            " 156 158 159 161 162 163 164 165 166 168 170 171 172 173 174 175 176 177\n",
            " 178 179 180 181 182 183 185 186 187 188 190 191 192 194 195 196 198 199\n",
            " 200] [ 21  37  48  50  54  57  58  63  88 107 129 134 157 160 167 169 184 189\n",
            " 193 197]\n",
            "[  0   2   3   4   5   6   7   8   9  10  11  12  13  15  16  17  18  19\n",
            "  21  22  23  24  25  26  27  28  29  30  31  32  33  34  35  36  37  38\n",
            "  39  40  41  42  43  44  45  46  47  48  49  50  51  53  54  55  56  57\n",
            "  58  59  60  61  62  63  64  65  66  67  68  69  70  72  73  75  76  77\n",
            "  78  79  80  81  82  83  84  85  86  88  89  90  91  93  94  95  96  97\n",
            "  98 100 101 104 105 107 108 109 110 111 112 113 114 115 117 118 119 120\n",
            " 122 123 124 125 126 127 128 129 131 132 133 134 135 136 137 138 139 140\n",
            " 141 142 143 144 145 146 147 148 150 152 153 154 155 156 157 158 159 160\n",
            " 161 162 163 164 165 166 167 168 169 170 171 172 173 174 175 176 177 178\n",
            " 180 181 182 183 184 185 186 187 189 190 191 192 193 194 195 196 197 198\n",
            " 199] [  1  14  20  52  71  74  87  92  99 102 103 106 116 121 130 149 151 179\n",
            " 188 200]\n"
          ]
        }
      ],
      "source": [
        "for i,j in kf.split(X):\n",
        "    print(i,j)"
      ]
    },
    {
      "cell_type": "code",
      "execution_count": 10,
      "id": "2b2a35f4",
      "metadata": {
        "id": "2b2a35f4",
        "colab": {
          "base_uri": "https://localhost:8080/"
        },
        "outputId": "8ee892b0-be9c-45ac-f1cc-b4a94b7accd2"
      },
      "outputs": [
        {
          "output_type": "execute_result",
          "data": {
            "text/plain": [
              "array(['Opposition', 'Ground', 'Position', 'Innings'], dtype=object)"
            ]
          },
          "metadata": {},
          "execution_count": 10
        }
      ],
      "source": [
        "model.feature_names_in_"
      ]
    },
    {
      "cell_type": "code",
      "source": [],
      "metadata": {
        "id": "ZQZ-PvmkKen6"
      },
      "id": "ZQZ-PvmkKen6",
      "execution_count": null,
      "outputs": []
    }
  ],
  "metadata": {
    "kernelspec": {
      "display_name": "Python 3 (ipykernel)",
      "language": "python",
      "name": "python3"
    },
    "language_info": {
      "codemirror_mode": {
        "name": "ipython",
        "version": 3
      },
      "file_extension": ".py",
      "mimetype": "text/x-python",
      "name": "python",
      "nbconvert_exporter": "python",
      "pygments_lexer": "ipython3",
      "version": "3.9.12"
    },
    "colab": {
      "provenance": []
    }
  },
  "nbformat": 4,
  "nbformat_minor": 5
}
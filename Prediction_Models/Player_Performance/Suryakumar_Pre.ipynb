{
  "cells": [
    {
      "cell_type": "code",
      "execution_count": 1,
      "id": "e20aed57",
      "metadata": {
        "colab": {
          "base_uri": "https://localhost:8080/"
        },
        "id": "e20aed57",
        "outputId": "a90b3e2c-7b8d-4ce3-f20a-74b956d36702"
      },
      "outputs": [
        {
          "output_type": "stream",
          "name": "stdout",
          "text": [
            "Requirement already satisfied: scikit-learn in /usr/local/lib/python3.10/dist-packages (1.2.2)\n",
            "Requirement already satisfied: numpy>=1.17.3 in /usr/local/lib/python3.10/dist-packages (from scikit-learn) (1.23.5)\n",
            "Requirement already satisfied: scipy>=1.3.2 in /usr/local/lib/python3.10/dist-packages (from scikit-learn) (1.11.3)\n",
            "Requirement already satisfied: joblib>=1.1.1 in /usr/local/lib/python3.10/dist-packages (from scikit-learn) (1.3.2)\n",
            "Requirement already satisfied: threadpoolctl>=2.0.0 in /usr/local/lib/python3.10/dist-packages (from scikit-learn) (3.2.0)\n"
          ]
        }
      ],
      "source": [
        "pip install scikit-learn"
      ]
    },
    {
      "cell_type": "code",
      "execution_count": 2,
      "id": "b7f0a237",
      "metadata": {
        "id": "b7f0a237"
      },
      "outputs": [],
      "source": [
        "from sklearn.preprocessing import MinMaxScaler"
      ]
    },
    {
      "cell_type": "code",
      "execution_count": 11,
      "id": "4eb7aeb6",
      "metadata": {
        "id": "4eb7aeb6"
      },
      "outputs": [],
      "source": [
        "import pandas as pd\n",
        "from sklearn.model_selection import KFold, cross_val_score\n",
        "from sklearn.ensemble import RandomForestRegressor\n",
        "from sklearn.metrics import mean_squared_error\n",
        "from sklearn.preprocessing import LabelEncoder\n",
        "\n",
        "\n",
        "# Load the data from the CSV file\n",
        "data = pd.read_csv(\"Suryakumar_Yadav.csv\")"
      ]
    },
    {
      "cell_type": "code",
      "source": [
        "data.columns"
      ],
      "metadata": {
        "colab": {
          "base_uri": "https://localhost:8080/"
        },
        "id": "GL9lWdjKSAlH",
        "outputId": "75bebead-1499-484b-84a3-02245892cf28"
      },
      "id": "GL9lWdjKSAlH",
      "execution_count": 12,
      "outputs": [
        {
          "output_type": "execute_result",
          "data": {
            "text/plain": [
              "Index(['Runs', 'Minutes', 'Balls_faced', '4s', '6s', 'Strike_Rate', 'Position',\n",
              "       'Dismissal', 'Innings', 'Opposition', 'Ground'],\n",
              "      dtype='object')"
            ]
          },
          "metadata": {},
          "execution_count": 12
        }
      ]
    },
    {
      "cell_type": "code",
      "execution_count": 13,
      "id": "6c20de1d",
      "metadata": {
        "id": "6c20de1d",
        "colab": {
          "base_uri": "https://localhost:8080/"
        },
        "outputId": "bfcf5ea6-c5ee-494f-cf46-dbb897630ce7"
      },
      "outputs": [
        {
          "output_type": "execute_result",
          "data": {
            "text/plain": [
              "array(['Sri Lanka', 'South Africa', 'West Indies', 'England',\n",
              "       'New Zealand', 'Australia', 'Bangladesh', 'Pakistan', 'Scotland',\n",
              "       'Namibia', 'Ireland', 'Hong Kong', 'Afghanistan', 'Netherlands',\n",
              "       'Zimbabwe'], dtype=object)"
            ]
          },
          "metadata": {},
          "execution_count": 13
        }
      ],
      "source": [
        "data.Opposition.unique()"
      ]
    },
    {
      "cell_type": "code",
      "execution_count": 14,
      "id": "1bafc545",
      "metadata": {
        "id": "1bafc545"
      },
      "outputs": [],
      "source": [
        "# Separate features (X) from the target variable (y)\n",
        "X = data.drop('Runs', axis=1)\n",
        "y = data['Runs']\n",
        "\n",
        "# labelencoder = LabelEncoder()\n",
        "# X['Dismissal'] = labelencoder.fit_transform(X['Dismissal'])\n",
        "\n",
        "labelencoder_1 = LabelEncoder()\n",
        "X['Opposition'] = labelencoder_1.fit_transform(X['Opposition'])\n",
        "\n",
        "labelencoder_2 = LabelEncoder()\n",
        "X['Ground'] = labelencoder_2.fit_transform(X['Ground'])\n",
        "\n",
        "labelencoder_2 = LabelEncoder()\n",
        "X['Innings'] = labelencoder_2.fit_transform(X['Innings'])\n",
        "\n",
        "labelencoder_2 = LabelEncoder()\n",
        "X['Innings'] = labelencoder_2.fit_transform(X['Position'])"
      ]
    },
    {
      "cell_type": "code",
      "execution_count": 15,
      "id": "aef315ba",
      "metadata": {
        "id": "aef315ba"
      },
      "outputs": [],
      "source": [
        "# X = X[['Dismissal','Opposition','Ground','Innings','Position']]\n",
        "X = X[['Opposition','Ground','Position','Innings']]"
      ]
    },
    {
      "cell_type": "code",
      "execution_count": 16,
      "id": "49cf394f",
      "metadata": {
        "id": "49cf394f",
        "colab": {
          "base_uri": "https://localhost:8080/"
        },
        "outputId": "f471a5c6-a90d-4bbe-a6d7-0a8885da777b"
      },
      "outputs": [
        {
          "output_type": "stream",
          "name": "stdout",
          "text": [
            "Average Mean Squared Error: 1051.1366791723028\n",
            "Enter the Opposition : Pakistan\n",
            "Enter the Ground : Ahmedabad\n",
            "Enter Position : 5\n",
            "Enter the Innings : 1\n",
            "  Opposition     Ground  Position  Innings\n",
            "0   Pakistan  Ahmedabad         5        1\n",
            "Predicted runs for the future game against Pakistan in Ahmedabad: [32.07083333]\n"
          ]
        }
      ],
      "source": [
        "\n",
        "#labelencoder_3 = LabelEncoder()\n",
        "#X['Start Date'] = labelencoder_3.fit_transform(X['Start Date'])\n",
        "\n",
        "# K-fold cross-validation\n",
        "kf = KFold(n_splits=10, shuffle=True, random_state=42)\n",
        "mse_scores = []\n",
        "\n",
        "for train_index, test_index in kf.split(X):\n",
        "    X_train, X_test = X.iloc[train_index], X.iloc[test_index]\n",
        "    y_train, y_test = y.iloc[train_index], y.iloc[test_index]\n",
        "\n",
        "    # Train the model on the training data\n",
        "    model = RandomForestRegressor(random_state=42)\n",
        "    model.fit(X_train, y_train)\n",
        "\n",
        "    # Make predictions on the test data\n",
        "    y_pred = model.predict(X_test)\n",
        "\n",
        "    # Calculate the mean squared error\n",
        "    mse = mean_squared_error(y_test, y_pred)\n",
        "    mse_scores.append(mse)\n",
        "\n",
        "# Calculate the average mean squared error\n",
        "avg_mse = sum(mse_scores) / len(mse_scores)\n",
        "print(\"Average Mean Squared Error:\", avg_mse)\n",
        "\n",
        "\n",
        "Opposition = input(\"Enter the Opposition : \")\n",
        "Ground = input(\"Enter the Ground : \")\n",
        "Position = input(\"Enter Position : \")\n",
        "Innings = input(\"Enter the Innings : \")\n",
        "\n",
        "\n",
        "# New data for the future game\n",
        "new_data = {\n",
        "    'Opposition': Opposition,\n",
        "    'Ground': Ground,\n",
        "    #'Start Date': '11/15/2023',\n",
        "    'Position': int(Position),\n",
        "    'Innings': int(Innings)\n",
        "    # 'Innings': Innings\n",
        "\n",
        "}\n",
        "\n",
        "# Preprocess the new data\n",
        "index = [0]  # Index can be a list of integers\n",
        "new_data = pd.DataFrame(new_data, index=index)\n",
        "\n",
        "print(new_data)\n",
        "\n",
        "# Label encode the 'Opposition' feature\n",
        "labelencoder_1 = LabelEncoder()\n",
        "new_data['Opposition'] = labelencoder_1.fit_transform(new_data['Opposition'])\n",
        "\n",
        "# Label encode the 'Ground' feature\n",
        "labelencoder_2 = LabelEncoder()\n",
        "new_data['Ground'] = labelencoder_2.fit_transform(new_data['Ground'])\n",
        "\n",
        "#labelencoder_3 = LabelEncoder()\n",
        "#X['Start Date'] = labelencoder_3.fit_transform(X['Start Date'])\n",
        "\n",
        "\n",
        "# divide date into seperate columns\n",
        "#\n",
        "# Scale the 'Date' feature\n",
        "#scaler = MinMaxScaler()\n",
        "#scaler.fit(X_train['Start Date'].values.reshape(-1, 1))\n",
        "#new_data['Start Date'] = scaler.transform(new_data['Start Date'].values.reshape(-1, 1))\n",
        "\n",
        "# Make a prediction\n",
        "predicted_runs = model.predict(new_data)\n",
        "print(f\"Predicted runs for the future game against {Opposition} in {Ground}:\", predicted_runs)\n"
      ]
    },
    {
      "cell_type": "code",
      "execution_count": 17,
      "id": "74a79680",
      "metadata": {
        "id": "74a79680",
        "colab": {
          "base_uri": "https://localhost:8080/"
        },
        "outputId": "14c15f29-41a4-431b-bdbf-a0a4ba637dd2"
      },
      "outputs": [
        {
          "output_type": "stream",
          "name": "stdout",
          "text": [
            "[ 1  2  3  5  6  7  8  9 11 13 14 15 16 17 18 19 20 21 22 23 24 25 26 27\n",
            " 28 29 31 32 35 36 37 38 39 40 41 42 43 44 45 46 47 48 49 50 51 52 53 54\n",
            " 55 56 57 58 59 60 61 62 63 64 65 66 67 68 69 70 71 72 73 74 75 76] [ 0  4 10 12 30 33 34 77]\n",
            "[ 0  1  2  3  4  5  6  7  8  9 10 11 12 13 14 15 16 17 19 20 21 23 24 25\n",
            " 26 27 28 29 30 31 32 33 34 35 36 37 38 39 40 41 42 43 45 46 47 48 50 51\n",
            " 52 53 55 56 57 58 59 60 62 63 64 65 67 68 69 70 71 73 74 75 76 77] [18 22 44 49 54 61 66 72]\n",
            "[ 0  1  2  3  4  6  7  8 10 11 12 13 14 15 16 17 18 19 20 21 22 23 24 25\n",
            " 26 27 28 29 30 32 33 34 36 37 38 40 41 42 43 44 45 46 47 48 49 50 51 52\n",
            " 54 55 56 57 59 60 61 62 63 64 65 66 68 69 70 71 72 73 74 75 76 77] [ 5  9 31 35 39 53 58 67]\n",
            "[ 0  1  2  3  4  5  6  8  9 10 11 12 13 14 15 17 18 19 20 21 22 23 24 25\n",
            " 26 27 29 30 31 32 33 34 35 36 37 38 39 41 43 44 45 46 48 49 51 52 53 54\n",
            " 55 56 57 58 59 60 61 62 63 64 65 66 67 68 69 70 71 72 73 75 76 77] [ 7 16 28 40 42 47 50 74]\n",
            "[ 0  1  2  3  4  5  6  7  8  9 10 11 12 14 15 16 17 18 20 21 22 23 24 26\n",
            " 27 28 29 30 31 32 33 34 35 36 37 38 39 40 41 42 43 44 46 47 48 49 50 51\n",
            " 52 53 54 57 58 59 60 61 62 63 64 66 67 68 70 71 72 73 74 75 76 77] [13 19 25 45 55 56 65 69]\n",
            "[ 0  1  2  4  5  7  9 10 11 12 13 14 15 16 18 19 20 21 22 23 24 25 26 27\n",
            " 28 29 30 31 32 33 34 35 37 39 40 41 42 43 44 45 46 47 48 49 50 51 52 53\n",
            " 54 55 56 57 58 59 60 61 63 64 65 66 67 68 69 70 71 72 73 74 76 77] [ 3  6  8 17 36 38 62 75]\n",
            "[ 0  1  2  3  4  5  6  7  8  9 10 11 12 13 14 16 17 18 19 20 21 22 23 24\n",
            " 25 28 29 30 31 32 33 34 35 36 37 38 39 40 42 43 44 45 47 49 50 51 52 53\n",
            " 54 55 56 57 58 59 60 61 62 63 65 66 67 68 69 70 71 72 73 74 75 77] [15 26 27 41 46 48 64 76]\n",
            "[ 0  1  2  3  4  5  6  7  8  9 10 12 13 14 15 16 17 18 19 20 21 22 23 25\n",
            " 26 27 28 29 30 31 33 34 35 36 37 38 39 40 41 42 44 45 46 47 48 49 50 51\n",
            " 52 53 54 55 56 58 60 61 62 63 64 65 66 67 68 69 71 72 74 75 76 77] [11 24 32 43 57 59 70 73]\n",
            "[ 0  2  3  4  5  6  7  8  9 10 11 12 13 14 15 16 17 18 19 20 22 23 24 25\n",
            " 26 27 28 30 31 32 33 34 35 36 38 39 40 41 42 43 44 45 46 47 48 49 50 51\n",
            " 53 54 55 56 57 58 59 60 61 62 64 65 66 67 69 70 71 72 73 74 75 76 77] [ 1 21 29 37 52 63 68]\n",
            "[ 0  1  3  4  5  6  7  8  9 10 11 12 13 15 16 17 18 19 21 22 24 25 26 27\n",
            " 28 29 30 31 32 33 34 35 36 37 38 39 40 41 42 43 44 45 46 47 48 49 50 52\n",
            " 53 54 55 56 57 58 59 61 62 63 64 65 66 67 68 69 70 72 73 74 75 76 77] [ 2 14 20 23 51 60 71]\n"
          ]
        }
      ],
      "source": [
        "for i,j in kf.split(X):\n",
        "    print(i,j)"
      ]
    },
    {
      "cell_type": "code",
      "execution_count": 18,
      "id": "2b2a35f4",
      "metadata": {
        "id": "2b2a35f4",
        "colab": {
          "base_uri": "https://localhost:8080/"
        },
        "outputId": "56ea111d-5e6b-4825-8d01-f4948cf746dd"
      },
      "outputs": [
        {
          "output_type": "execute_result",
          "data": {
            "text/plain": [
              "array(['Opposition', 'Ground', 'Position', 'Innings'], dtype=object)"
            ]
          },
          "metadata": {},
          "execution_count": 18
        }
      ],
      "source": [
        "model.feature_names_in_"
      ]
    },
    {
      "cell_type": "code",
      "source": [],
      "metadata": {
        "id": "ZQZ-PvmkKen6"
      },
      "id": "ZQZ-PvmkKen6",
      "execution_count": null,
      "outputs": []
    }
  ],
  "metadata": {
    "kernelspec": {
      "display_name": "Python 3 (ipykernel)",
      "language": "python",
      "name": "python3"
    },
    "language_info": {
      "codemirror_mode": {
        "name": "ipython",
        "version": 3
      },
      "file_extension": ".py",
      "mimetype": "text/x-python",
      "name": "python",
      "nbconvert_exporter": "python",
      "pygments_lexer": "ipython3",
      "version": "3.9.12"
    },
    "colab": {
      "provenance": []
    }
  },
  "nbformat": 4,
  "nbformat_minor": 5
}
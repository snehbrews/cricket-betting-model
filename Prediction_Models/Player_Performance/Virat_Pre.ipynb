{
  "cells": [
    {
      "cell_type": "code",
      "execution_count": 1,
      "id": "e20aed57",
      "metadata": {
        "colab": {
          "base_uri": "https://localhost:8080/"
        },
        "id": "e20aed57",
        "outputId": "5fb38fb9-b9fc-4aa4-b3b0-9ecf54edb9a9"
      },
      "outputs": [
        {
          "output_type": "stream",
          "name": "stdout",
          "text": [
            "Requirement already satisfied: scikit-learn in /usr/local/lib/python3.10/dist-packages (1.2.2)\n",
            "Requirement already satisfied: numpy>=1.17.3 in /usr/local/lib/python3.10/dist-packages (from scikit-learn) (1.23.5)\n",
            "Requirement already satisfied: scipy>=1.3.2 in /usr/local/lib/python3.10/dist-packages (from scikit-learn) (1.11.3)\n",
            "Requirement already satisfied: joblib>=1.1.1 in /usr/local/lib/python3.10/dist-packages (from scikit-learn) (1.3.2)\n",
            "Requirement already satisfied: threadpoolctl>=2.0.0 in /usr/local/lib/python3.10/dist-packages (from scikit-learn) (3.2.0)\n"
          ]
        }
      ],
      "source": [
        "pip install scikit-learn"
      ]
    },
    {
      "cell_type": "code",
      "execution_count": 2,
      "id": "b7f0a237",
      "metadata": {
        "id": "b7f0a237"
      },
      "outputs": [],
      "source": [
        "from sklearn.preprocessing import MinMaxScaler"
      ]
    },
    {
      "cell_type": "code",
      "execution_count": 3,
      "id": "4eb7aeb6",
      "metadata": {
        "id": "4eb7aeb6"
      },
      "outputs": [],
      "source": [
        "import pandas as pd\n",
        "from sklearn.model_selection import KFold, cross_val_score\n",
        "from sklearn.ensemble import RandomForestRegressor\n",
        "from sklearn.metrics import mean_squared_error\n",
        "from sklearn.preprocessing import LabelEncoder\n",
        "\n",
        "\n",
        "# Load the data from the CSV file\n",
        "data = pd.read_csv(\"Virat_Kohli.csv\")"
      ]
    },
    {
      "cell_type": "code",
      "source": [
        "data.columns"
      ],
      "metadata": {
        "colab": {
          "base_uri": "https://localhost:8080/"
        },
        "id": "GL9lWdjKSAlH",
        "outputId": "b56b4d38-0498-4943-c73f-8b92ca649f6a"
      },
      "id": "GL9lWdjKSAlH",
      "execution_count": 4,
      "outputs": [
        {
          "output_type": "execute_result",
          "data": {
            "text/plain": [
              "Index(['Runs', 'Minutes', 'Balls_faced', '4s', '6s', 'Strike_Rate', 'Position',\n",
              "       'Dismissal', 'Innings', 'Opposition', 'Ground'],\n",
              "      dtype='object')"
            ]
          },
          "metadata": {},
          "execution_count": 4
        }
      ]
    },
    {
      "cell_type": "code",
      "execution_count": 5,
      "id": "6c20de1d",
      "metadata": {
        "id": "6c20de1d",
        "colab": {
          "base_uri": "https://localhost:8080/"
        },
        "outputId": "a72eb84a-6fec-4f39-e48f-16fab35224f2"
      },
      "outputs": [
        {
          "output_type": "execute_result",
          "data": {
            "text/plain": [
              "array(['v Sri Lanka', 'v Pakistan', 'v West Indies', 'v Australia',\n",
              "       'v Bangladesh', 'v Zimbabwe', 'v New Zealand', 'v South Africa',\n",
              "       'v England', 'v Ireland', 'v Netherlands', 'v U.A.E.',\n",
              "       'v Afghanistan'], dtype=object)"
            ]
          },
          "metadata": {},
          "execution_count": 5
        }
      ],
      "source": [
        "data.Opposition.unique()"
      ]
    },
    {
      "cell_type": "code",
      "execution_count": 6,
      "id": "1bafc545",
      "metadata": {
        "id": "1bafc545"
      },
      "outputs": [],
      "source": [
        "# Separate features (X) from the target variable (y)\n",
        "X = data.drop('Runs', axis=1)\n",
        "y = data['Runs']\n",
        "\n",
        "# labelencoder = LabelEncoder()\n",
        "# X['Dismissal'] = labelencoder.fit_transform(X['Dismissal'])\n",
        "\n",
        "labelencoder_1 = LabelEncoder()\n",
        "X['Opposition'] = labelencoder_1.fit_transform(X['Opposition'])\n",
        "\n",
        "labelencoder_2 = LabelEncoder()\n",
        "X['Ground'] = labelencoder_2.fit_transform(X['Ground'])\n",
        "\n",
        "labelencoder_2 = LabelEncoder()\n",
        "X['Innings'] = labelencoder_2.fit_transform(X['Innings'])\n",
        "\n",
        "labelencoder_2 = LabelEncoder()\n",
        "X['Innings'] = labelencoder_2.fit_transform(X['Position'])"
      ]
    },
    {
      "cell_type": "code",
      "execution_count": 7,
      "id": "aef315ba",
      "metadata": {
        "id": "aef315ba"
      },
      "outputs": [],
      "source": [
        "# X = X[['Dismissal','Opposition','Ground','Innings','Position']]\n",
        "X = X[['Opposition','Ground','Position','Innings']]"
      ]
    },
    {
      "cell_type": "code",
      "execution_count": 8,
      "id": "49cf394f",
      "metadata": {
        "id": "49cf394f",
        "colab": {
          "base_uri": "https://localhost:8080/"
        },
        "outputId": "5b384448-6621-4ddb-f42f-a0b448e587b8"
      },
      "outputs": [
        {
          "output_type": "stream",
          "name": "stdout",
          "text": [
            "Average Mean Squared Error: 2576.8425089278594\n",
            "Enter the Opposition : Australia\n",
            "Enter the Ground : Ahmedabad\n",
            "Enter Position : 3\n",
            "Enter the Innings : 2\n",
            "  Opposition     Ground  Position  Innings\n",
            "0  Australia  Ahmedabad         3        2\n",
            "Predicted runs for the future game against Australia in Ahmedabad: [62.79]\n"
          ]
        }
      ],
      "source": [
        "\n",
        "#labelencoder_3 = LabelEncoder()\n",
        "#X['Start Date'] = labelencoder_3.fit_transform(X['Start Date'])\n",
        "\n",
        "# K-fold cross-validation\n",
        "kf = KFold(n_splits=10, shuffle=True, random_state=42)\n",
        "mse_scores = []\n",
        "\n",
        "for train_index, test_index in kf.split(X):\n",
        "    X_train, X_test = X.iloc[train_index], X.iloc[test_index]\n",
        "    y_train, y_test = y.iloc[train_index], y.iloc[test_index]\n",
        "\n",
        "    # Train the model on the training data\n",
        "    model = RandomForestRegressor(random_state=42)\n",
        "    model.fit(X_train, y_train)\n",
        "\n",
        "    # Make predictions on the test data\n",
        "    y_pred = model.predict(X_test)\n",
        "\n",
        "    # Calculate the mean squared error\n",
        "    mse = mean_squared_error(y_test, y_pred)\n",
        "    mse_scores.append(mse)\n",
        "\n",
        "# Calculate the average mean squared error\n",
        "avg_mse = sum(mse_scores) / len(mse_scores)\n",
        "print(\"Average Mean Squared Error:\", avg_mse)\n",
        "\n",
        "\n",
        "Opposition = input(\"Enter the Opposition : \")\n",
        "Ground = input(\"Enter the Ground : \")\n",
        "Position = input(\"Enter Position : \")\n",
        "Innings = input(\"Enter the Innings : \")\n",
        "\n",
        "\n",
        "# New data for the future game\n",
        "new_data = {\n",
        "    'Opposition': Opposition,\n",
        "    'Ground': Ground,\n",
        "    #'Start Date': '11/15/2023',\n",
        "    'Position': int(Position),\n",
        "    'Innings': int(Innings)\n",
        "    # 'Innings': Innings\n",
        "\n",
        "}\n",
        "\n",
        "# Preprocess the new data\n",
        "index = [0]  # Index can be a list of integers\n",
        "new_data = pd.DataFrame(new_data, index=index)\n",
        "\n",
        "print(new_data)\n",
        "\n",
        "# Label encode the 'Opposition' feature\n",
        "labelencoder_1 = LabelEncoder()\n",
        "new_data['Opposition'] = labelencoder_1.fit_transform(new_data['Opposition'])\n",
        "\n",
        "# Label encode the 'Ground' feature\n",
        "labelencoder_2 = LabelEncoder()\n",
        "new_data['Ground'] = labelencoder_2.fit_transform(new_data['Ground'])\n",
        "\n",
        "#labelencoder_3 = LabelEncoder()\n",
        "#X['Start Date'] = labelencoder_3.fit_transform(X['Start Date'])\n",
        "\n",
        "\n",
        "# divide date into seperate columns\n",
        "#\n",
        "# Scale the 'Date' feature\n",
        "#scaler = MinMaxScaler()\n",
        "#scaler.fit(X_train['Start Date'].values.reshape(-1, 1))\n",
        "#new_data['Start Date'] = scaler.transform(new_data['Start Date'].values.reshape(-1, 1))\n",
        "\n",
        "# Make a prediction\n",
        "predicted_runs = model.predict(new_data)\n",
        "print(f\"Predicted runs for the future game against {Opposition} in {Ground}:\", predicted_runs)\n"
      ]
    },
    {
      "cell_type": "code",
      "execution_count": 9,
      "id": "74a79680",
      "metadata": {
        "id": "74a79680",
        "colab": {
          "base_uri": "https://localhost:8080/"
        },
        "outputId": "2e958a08-f642-4518-b001-86489b754e7e"
      },
      "outputs": [
        {
          "output_type": "stream",
          "name": "stdout",
          "text": [
            "[  0   1   2   3   4   5   7   8  10  11  12  13  14  16  17  18  20  21\n",
            "  22  23  25  26  27  28  29  31  32  33  34  35  36  37  38  39  40  41\n",
            "  42  43  44  46  47  48  49  50  51  52  53  54  55  56  57  58  59  60\n",
            "  61  62  63  64  65  66  67  68  69  70  71  72  73  74  75  76  77  78\n",
            "  79  80  81  82  83  84  85  87  88  89  90  91  92  94  95  96  97  98\n",
            "  99 100 101 102 103 105 106 107 108 110 111 112 115 116 117 118 119 120\n",
            " 121 122 123 124 126 128 129 130 131 132 133 134 135 136 137 138 139 140\n",
            " 141 142 144 145 146 147 148 149 150 151 153 154 155 156 157 158 159 160\n",
            " 161 162 163 164 165 166 167 169 170 171 173 174 175 176 177 178 179 180\n",
            " 181 182 183 184 186 187 188 189 190 191 192 193 194 195 196 197 198 199\n",
            " 200 201 202 203 204 205 207 208 209 210 211 212 213 214 215 216 217 218\n",
            " 219 220 221 222 223 224 225 226 227 228 229 231 232 234 236 237 238 239] [  6   9  15  19  24  30  45  86  93 104 109 113 114 125 127 143 152 168\n",
            " 172 185 206 230 233 235]\n",
            "[  0   1   2   3   4   5   6   7   8   9  11  12  13  14  15  17  19  20\n",
            "  21  22  23  24  26  27  28  29  30  31  32  33  34  35  36  37  39  40\n",
            "  41  42  43  44  45  46  47  48  49  50  51  52  53  54  56  57  58  59\n",
            "  60  61  62  63  64  65  67  68  70  71  72  73  74  75  76  77  78  80\n",
            "  81  82  83  84  85  86  87  88  89  90  91  92  93  94  95  97  98  99\n",
            " 100 101 102 103 104 105 106 107 108 109 110 111 113 114 115 116 117 118\n",
            " 119 120 121 122 123 124 125 126 127 128 129 130 131 132 133 134 135 136\n",
            " 137 138 139 140 141 142 143 144 145 146 147 148 149 151 152 154 155 157\n",
            " 158 159 160 161 162 163 164 166 167 168 169 170 171 172 173 174 177 178\n",
            " 179 180 181 183 184 185 186 187 188 189 190 191 193 194 195 196 197 198\n",
            " 199 200 202 203 204 205 206 207 208 209 210 211 212 213 214 215 216 217\n",
            " 218 219 220 222 223 224 225 226 229 230 231 232 233 234 235 236 238 239] [ 10  16  18  25  38  55  66  69  79  96 112 150 153 156 165 175 176 182\n",
            " 192 201 221 227 228 237]\n",
            "[  0   1   2   3   4   5   6   7   8   9  10  11  12  13  14  15  16  17\n",
            "  18  19  20  21  22  23  24  25  26  27  28  29  30  31  32  33  34  35\n",
            "  36  37  38  39  40  41  42  43  44  45  46  47  48  49  50  51  52  53\n",
            "  54  55  56  57  58  59  61  62  63  64  65  66  69  70  71  72  74  75\n",
            "  76  77  78  79  80  81  82  83  85  86  87  88  89  90  91  92  93  94\n",
            "  96  97  98  99 100 102 103 104 105 106 107 109 110 112 113 114 116 118\n",
            " 119 121 122 123 124 125 127 128 129 130 131 132 133 134 135 137 138 140\n",
            " 141 142 143 144 145 146 147 148 149 150 151 152 153 154 155 156 157 158\n",
            " 159 160 161 162 163 164 165 166 167 168 169 170 171 172 173 174 175 176\n",
            " 178 179 180 181 182 183 184 185 187 188 189 190 191 192 195 196 197 198\n",
            " 199 200 201 202 203 205 206 208 210 211 212 213 214 215 216 217 218 220\n",
            " 221 222 223 225 226 227 228 229 230 231 232 233 234 235 236 237 238 239] [ 60  67  68  73  84  95 101 108 111 115 117 120 126 136 139 177 186 193\n",
            " 194 204 207 209 219 224]\n",
            "[  0   1   2   3   4   6   7   8   9  10  11  13  14  15  16  17  18  19\n",
            "  20  21  22  23  24  25  26  27  30  32  33  34  36  37  38  39  40  41\n",
            "  43  44  45  46  47  48  49  50  52  53  54  55  57  58  59  60  61  62\n",
            "  63  64  66  67  68  69  70  71  72  73  74  76  77  78  79  80  81  83\n",
            "  84  85  86  87  88  89  90  91  92  93  94  95  96  98  99 100 101 102\n",
            " 103 104 105 106 107 108 109 110 111 112 113 114 115 116 117 118 119 120\n",
            " 121 122 123 125 126 127 128 129 130 131 132 133 134 135 136 138 139 140\n",
            " 141 143 144 145 146 147 149 150 151 152 153 154 155 156 157 158 160 162\n",
            " 163 165 166 167 168 169 170 171 172 173 174 175 176 177 178 179 180 181\n",
            " 182 183 184 185 186 187 188 189 191 192 193 194 195 196 197 198 199 200\n",
            " 201 202 203 204 205 206 207 209 210 211 213 214 215 216 217 218 219 220\n",
            " 221 222 224 225 226 227 228 229 230 231 232 233 234 235 236 237 238 239] [  5  12  28  29  31  35  42  51  56  65  75  82  97 124 137 142 148 159\n",
            " 161 164 190 208 212 223]\n",
            "[  1   3   4   5   6   7   8   9  10  11  12  13  14  15  16  17  18  19\n",
            "  20  21  22  23  24  25  27  28  29  30  31  32  33  34  35  36  37  38\n",
            "  39  40  42  43  44  45  47  48  49  50  51  52  53  54  55  56  57  58\n",
            "  59  60  61  62  63  64  65  66  67  68  69  70  71  72  73  74  75  79\n",
            "  80  81  82  83  84  86  87  88  89  91  92  93  94  95  96  97  99 101\n",
            " 102 103 104 105 106 107 108 109 110 111 112 113 114 115 116 117 118 120\n",
            " 121 122 123 124 125 126 127 128 129 130 131 133 134 135 136 137 138 139\n",
            " 140 142 143 145 147 148 149 150 151 152 153 154 155 156 157 159 160 161\n",
            " 163 164 165 166 168 169 170 171 172 174 175 176 177 178 179 180 181 182\n",
            " 183 184 185 186 187 188 189 190 191 192 193 194 195 196 197 198 199 200\n",
            " 201 202 203 204 205 206 207 208 209 210 211 212 213 214 216 217 218 219\n",
            " 220 221 222 223 224 225 226 227 228 229 230 232 233 234 235 236 237 239] [  0   2  26  41  46  76  77  78  85  90  98 100 119 132 141 144 146 158\n",
            " 162 167 173 215 231 238]\n",
            "[  0   1   2   3   5   6   7   8   9  10  12  13  14  15  16  17  18  19\n",
            "  20  21  23  24  25  26  28  29  30  31  34  35  37  38  39  40  41  42\n",
            "  43  44  45  46  47  48  49  50  51  52  53  54  55  56  57  58  59  60\n",
            "  63  64  65  66  67  68  69  71  72  73  74  75  76  77  78  79  80  81\n",
            "  82  83  84  85  86  87  88  89  90  91  92  93  94  95  96  97  98  99\n",
            " 100 101 102 103 104 105 106 107 108 109 110 111 112 113 114 115 116 117\n",
            " 119 120 121 123 124 125 126 127 129 130 131 132 133 134 136 137 139 141\n",
            " 142 143 144 145 146 148 149 150 151 152 153 154 156 157 158 159 160 161\n",
            " 162 163 164 165 166 167 168 169 171 172 173 174 175 176 177 178 179 181\n",
            " 182 184 185 186 187 188 189 190 191 192 193 194 195 197 198 199 200 201\n",
            " 202 203 204 205 206 207 208 209 210 211 212 213 214 215 217 218 219 220\n",
            " 221 222 223 224 225 226 227 228 229 230 231 232 233 235 236 237 238 239] [  4  11  22  27  32  33  36  61  62  70 118 122 128 135 138 140 147 155\n",
            " 170 180 183 196 216 234]\n",
            "[  0   1   2   4   5   6   7   8   9  10  11  12  13  14  15  16  17  18\n",
            "  19  20  21  22  24  25  26  27  28  29  30  31  32  33  34  35  36  37\n",
            "  38  41  42  45  46  48  49  50  51  52  54  55  56  57  58  59  60  61\n",
            "  62  63  65  66  67  68  69  70  71  72  73  74  75  76  77  78  79  80\n",
            "  82  83  84  85  86  87  88  89  90  91  92  93  95  96  97  98  99 100\n",
            " 101 102 103 104 106 107 108 109 110 111 112 113 114 115 116 117 118 119\n",
            " 120 121 122 124 125 126 127 128 129 130 131 132 134 135 136 137 138 139\n",
            " 140 141 142 143 144 146 147 148 149 150 151 152 153 155 156 157 158 159\n",
            " 160 161 162 163 164 165 166 167 168 169 170 171 172 173 174 175 176 177\n",
            " 179 180 182 183 185 186 187 188 189 190 191 192 193 194 195 196 198 199\n",
            " 201 202 203 204 205 206 207 208 209 210 211 212 213 214 215 216 218 219\n",
            " 220 221 223 224 225 227 228 229 230 231 232 233 234 235 236 237 238 239] [  3  23  39  40  43  44  47  53  64  81  94 105 123 133 145 154 178 181\n",
            " 184 197 200 217 222 226]\n",
            "[  0   1   2   3   4   5   6   9  10  11  12  14  15  16  18  19  20  21\n",
            "  22  23  24  25  26  27  28  29  30  31  32  33  35  36  37  38  39  40\n",
            "  41  42  43  44  45  46  47  48  50  51  52  53  54  55  56  57  58  60\n",
            "  61  62  63  64  65  66  67  68  69  70  71  73  74  75  76  77  78  79\n",
            "  81  82  84  85  86  87  88  90  92  93  94  95  96  97  98  99 100 101\n",
            " 102 103 104 105 106 107 108 109 111 112 113 114 115 116 117 118 119 120\n",
            " 121 122 123 124 125 126 127 128 129 130 132 133 135 136 137 138 139 140\n",
            " 141 142 143 144 145 146 147 148 149 150 151 152 153 154 155 156 157 158\n",
            " 159 160 161 162 164 165 167 168 169 170 172 173 174 175 176 177 178 179\n",
            " 180 181 182 183 184 185 186 187 188 189 190 191 192 193 194 196 197 198\n",
            " 199 200 201 202 203 204 206 207 208 209 210 211 212 214 215 216 217 219\n",
            " 221 222 223 224 225 226 227 228 230 231 232 233 234 235 236 237 238 239] [  7   8  13  17  34  49  59  72  80  83  89  91 110 131 134 163 166 171\n",
            " 195 205 213 218 220 229]\n",
            "[  0   1   2   3   4   5   6   7   8   9  10  11  12  13  14  15  16  17\n",
            "  18  19  20  22  23  24  25  26  27  28  29  30  31  32  33  34  35  36\n",
            "  38  39  40  41  42  43  44  45  46  47  49  51  52  53  55  56  59  60\n",
            "  61  62  64  65  66  67  68  69  70  71  72  73  74  75  76  77  78  79\n",
            "  80  81  82  83  84  85  86  87  89  90  91  92  93  94  95  96  97  98\n",
            "  99 100 101 102 103 104 105 106 108 109 110 111 112 113 114 115 116 117\n",
            " 118 119 120 121 122 123 124 125 126 127 128 130 131 132 133 134 135 136\n",
            " 137 138 139 140 141 142 143 144 145 146 147 148 149 150 151 152 153 154\n",
            " 155 156 158 159 161 162 163 164 165 166 167 168 170 171 172 173 175 176\n",
            " 177 178 179 180 181 182 183 184 185 186 188 190 192 193 194 195 196 197\n",
            " 200 201 202 204 205 206 207 208 209 210 212 213 214 215 216 217 218 219\n",
            " 220 221 222 223 224 225 226 227 228 229 230 231 233 234 235 237 238 239] [ 21  37  48  50  54  57  58  63  88 107 129 157 160 169 174 187 189 191\n",
            " 198 199 203 211 232 236]\n",
            "[  0   2   3   4   5   6   7   8   9  10  11  12  13  15  16  17  18  19\n",
            "  21  22  23  24  25  26  27  28  29  30  31  32  33  34  35  36  37  38\n",
            "  39  40  41  42  43  44  45  46  47  48  49  50  51  53  54  55  56  57\n",
            "  58  59  60  61  62  63  64  65  66  67  68  69  70  72  73  75  76  77\n",
            "  78  79  80  81  82  83  84  85  86  88  89  90  91  93  94  95  96  97\n",
            "  98 100 101 104 105 107 108 109 110 111 112 113 114 115 117 118 119 120\n",
            " 122 123 124 125 126 127 128 129 131 132 133 134 135 136 137 138 139 140\n",
            " 141 142 143 144 145 146 147 148 150 152 153 154 155 156 157 158 159 160\n",
            " 161 162 163 164 165 166 167 168 169 170 171 172 173 174 175 176 177 178\n",
            " 180 181 182 183 184 185 186 187 189 190 191 192 193 194 195 196 197 198\n",
            " 199 200 201 203 204 205 206 207 208 209 211 212 213 215 216 217 218 219\n",
            " 220 221 222 223 224 226 227 228 229 230 231 232 233 234 235 236 237 238] [  1  14  20  52  71  74  87  92  99 102 103 106 116 121 130 149 151 179\n",
            " 188 202 210 214 225 239]\n"
          ]
        }
      ],
      "source": [
        "for i,j in kf.split(X):\n",
        "    print(i,j)"
      ]
    },
    {
      "cell_type": "code",
      "execution_count": 10,
      "id": "2b2a35f4",
      "metadata": {
        "id": "2b2a35f4",
        "colab": {
          "base_uri": "https://localhost:8080/"
        },
        "outputId": "ae035072-e3f5-43ae-c2ed-a17554b78fb5"
      },
      "outputs": [
        {
          "output_type": "execute_result",
          "data": {
            "text/plain": [
              "array(['Opposition', 'Ground', 'Position', 'Innings'], dtype=object)"
            ]
          },
          "metadata": {},
          "execution_count": 10
        }
      ],
      "source": [
        "model.feature_names_in_"
      ]
    },
    {
      "cell_type": "code",
      "source": [],
      "metadata": {
        "id": "ZQZ-PvmkKen6"
      },
      "id": "ZQZ-PvmkKen6",
      "execution_count": null,
      "outputs": []
    }
  ],
  "metadata": {
    "kernelspec": {
      "display_name": "Python 3 (ipykernel)",
      "language": "python",
      "name": "python3"
    },
    "language_info": {
      "codemirror_mode": {
        "name": "ipython",
        "version": 3
      },
      "file_extension": ".py",
      "mimetype": "text/x-python",
      "name": "python",
      "nbconvert_exporter": "python",
      "pygments_lexer": "ipython3",
      "version": "3.9.12"
    },
    "colab": {
      "provenance": []
    }
  },
  "nbformat": 4,
  "nbformat_minor": 5
}